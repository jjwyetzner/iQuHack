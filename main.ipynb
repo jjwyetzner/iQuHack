{
 "cells": [
  {
   "cell_type": "code",
   "execution_count": null,
   "metadata": {},
   "outputs": [],
   "source": [
    "import perceval as pcvl\n",
    "from perceval import Circuit\n",
    "from perceval.components import BS, PERM, Port\n",
    "from perceval.utils import Encoding, PostSelect\n",
    "import math\n",
    "import numpy as np\n",
    "import perceval.components as comp\n",
    "from perceval.rendering.circuit import SymbSkin, PhysSkin"
   ]
  },
  {
   "cell_type": "code",
   "execution_count": null,
   "metadata": {},
   "outputs": [],
   "source": [
    "# 30 phase shift params in generator\n",
    "phi = math.pi / 2\n",
    "gen_params = []\n",
    "for i in range(30):\n",
    "    pname = \"phi\" + str(i)\n",
    "    param = pcvl.P(pname)\n",
    "    param.set_value(phi)\n",
    "    gen_params.append(param)\n",
    "theta = math.pi/2\n",
    "generator = pcvl.Circuit(8)\n",
    "\n",
    "# 12 phase shift params in discriminator\n",
    "discrim_params = []\n",
    "for i in range(12):\n",
    "    pname = \"phi\" + str(i)\n",
    "    param = pcvl.P(pname)\n",
    "    param.set_value(phi)\n",
    "    discrim_params.append(param)"
   ]
  },
  {
   "cell_type": "code",
   "execution_count": null,
   "metadata": {},
   "outputs": [],
   "source": [
    "# Build Generator Model\n",
    "theta = math.pi/2\n",
    "generator = pcvl.Circuit(8)\n",
    "\n",
    "generator.add(1, comp.PS(gen_params[0]))\n",
    "generator.add(2, comp.PS(gen_params[1]))\n",
    "generator.add(3, comp.PS(gen_params[2]))\n",
    "generator.add(1, comp.BS(theta))\n",
    "generator.add(1, comp.PS(gen_params[3]))\n",
    "generator.add(1, comp.BS(theta))\n",
    "generator.add(0, comp.BS(theta))\n",
    "generator.add(2, comp.BS(theta))\n",
    "generator.add(0, comp.PS(gen_params[4]))\n",
    "generator.add(0, comp.BS(theta))\n",
    "generator.add(2, comp.PS(gen_params[5]))\n",
    "generator.add(2, comp.BS(theta))\n",
    "generator.add(1, comp.PS(gen_params[6]))\n",
    "generator.add(1, comp.BS(theta))\n",
    "generator.add(1, comp.PS(gen_params[7]))\n",
    "generator.add(1, comp.BS(theta))\n",
    "generator.add(0, comp.PS(gen_params[8]))\n",
    "generator.add(2, comp.PS(gen_params[9]))\n",
    "generator.add(0, comp.BS(theta))\n",
    "generator.add(2, comp.BS(theta))\n",
    "generator.add(0, comp.PS(gen_params[10]))\n",
    "generator.add(0, comp.BS(theta))\n",
    "generator.add(2, comp.PS(gen_params[11]))\n",
    "generator.add(2, comp.BS(theta))\n",
    "generator.add(0, comp.PS(gen_params[12]))\n",
    "generator.add(1, comp.PS(gen_params[13]))\n",
    "generator.add(2, comp.PS(gen_params[14]))\n",
    "\n",
    "\n",
    "generator.add(5, comp.PS(gen_params[15]))\n",
    "generator.add(6, comp.PS(gen_params[16]))\n",
    "generator.add(7, comp.PS(gen_params[17]))   \n",
    "generator.add(5, comp.BS(theta))\n",
    "generator.add(5, comp.PS(gen_params[18]))\n",
    "generator.add(5, comp.BS(theta))\n",
    "generator.add(4, comp.BS(theta))\n",
    "generator.add(6, comp.BS(theta))\n",
    "generator.add(4, comp.PS(gen_params[19]))\n",
    "generator.add(4, comp.BS(theta))\n",
    "generator.add(6, comp.PS(gen_params[20]))\n",
    "generator.add(6, comp.BS(theta))\n",
    "generator.add(5, comp.PS(gen_params[21]))\n",
    "generator.add(5, comp.BS(theta))\n",
    "generator.add(5, comp.PS(gen_params[22]))\n",
    "generator.add(5, comp.BS(theta))\n",
    "generator.add(4, comp.PS(gen_params[23]))\n",
    "generator.add(6, comp.PS(gen_params[24]))\n",
    "generator.add(4, comp.BS(theta))\n",
    "generator.add(6, comp.BS(theta))\n",
    "generator.add(4, comp.PS(gen_params[25]))\n",
    "generator.add(4, comp.BS(theta))\n",
    "generator.add(6, comp.PS(gen_params[26]))\n",
    "generator.add(6, comp.BS(theta))\n",
    "generator.add(4, comp.PS(gen_params[27]))\n",
    "generator.add(5, comp.PS(gen_params[28]))\n",
    "generator.add(6, comp.PS(gen_params[29]))"
   ]
  },
  {
   "cell_type": "code",
   "execution_count": null,
   "metadata": {},
   "outputs": [],
   "source": [
    "# Build Discriminator Model\n",
    "theta = math.pi/2\n",
    "discriminator = pcvl.Circuit(8)\n",
    "\n",
    "discriminator.add(0, comp.PS(discrim_params[0]))\n",
    "discriminator.add(1, comp.PS(discrim_params[1]))\n",
    "discriminator.add(2, comp.PS(discrim_params[2]))\n",
    "\n",
    "discriminator.add((0, 1), comp.BS(theta))\n",
    "discriminator.add((2, 3), comp.BS(theta))\n",
    "\n",
    "discriminator.add(0, comp.PS(discrim_params[3]))\n",
    "discriminator.add(2, comp.PS(discrim_params[4]))\n",
    "\n",
    "discriminator.add((0, 1), comp.BS(theta))\n",
    "discriminator.add((2, 3), comp.BS(theta))\n",
    "\n",
    "discriminator.add((1, 2), comp.BS(theta))\n",
    "\n",
    "discriminator.add(1, comp.PS(discrim_params[5]))\n",
    "\n",
    "discriminator.add((1, 2), comp.BS(theta))\n",
    "\n",
    "discriminator.add(4, comp.PS(discrim_params[6]))\n",
    "discriminator.add(5, comp.PS(discrim_params[7]))\n",
    "discriminator.add(6, comp.PS(discrim_params[8]))\n",
    "\n",
    "discriminator.add((4, 5), comp.BS(theta))\n",
    "discriminator.add((6, 7), comp.BS(theta))\n",
    "\n",
    "discriminator.add(4, comp.PS(discrim_params[9]))\n",
    "discriminator.add(6, comp.PS(discrim_params[10]))\n",
    "\n",
    "discriminator.add((4, 5), comp.BS(theta))\n",
    "discriminator.add((6, 7), comp.BS(theta))\n",
    "\n",
    "discriminator.add((5, 6), comp.BS(theta))\n",
    "\n",
    "discriminator.add(5, comp.PS(discrim_params[11]))\n",
    "\n",
    "discriminator.add((5, 6), comp.BS(theta))"
   ]
  },
  {
   "cell_type": "code",
   "execution_count": null,
   "metadata": {},
   "outputs": [],
   "source": [
    "def generate(phase_shift_angles, input_vec):\n",
    "    for i in range(30):\n",
    "        gen_params[i].set_value(phase_shift_angles[i])\n",
    "    g_processor = pcvl.Processor(\"SLOS\", generator)\n",
    "    g_processor.with_input(input_vec)\n",
    "    g_sampler = pcvl.algorithm.Sampler(g_processor)\n",
    "\n",
    "    return g_sampler"
   ]
  },
  {
   "cell_type": "code",
   "execution_count": null,
   "metadata": {},
   "outputs": [],
   "source": [
    "def discriminate(phase_discriminate_angles, input_vec):\n",
    "    for i in range(12):\n",
    "        discrim_params[i].set_value(phase_discriminate_angles[i])\n",
    "    d_processor = pcvl.Processor(\"SLOS\", discriminator)\n",
    "    d_processor.with_input(input_vec)\n",
    "    d_sampler = pcvl.algorithm.Sampler(d_processor) \n",
    "\n",
    "    return d_sampler"
   ]
  },
  {
   "cell_type": "code",
   "execution_count": null,
   "metadata": {},
   "outputs": [],
   "source": [
    "# Initalize phase shift angles\n",
    "\n",
    "phase_shift_angles = [phi]*30\n",
    "phase_discriminate_angles = [phi]*12\n",
    "\n",
    "# test\n",
    "\n",
    "st1 = pcvl.StateVector(\"|1,0,0,0,1,0,0,0>\")\n",
    "st2 = pcvl.StateVector(\"|0,1,0,0,0,1,0,0>\")\n",
    "st3 = pcvl.StateVector(\"|0,0,1,0,0,0,1,0>\")\n",
    "st4 = pcvl.StateVector(\"|0,0,0,1,0,0,0,1>\")\n",
    "stf = st1 + st2 + st3 + st4\n",
    "\n",
    "t1 = pcvl.StateVector(\"|1,0,0,0,0,1,0,0>\")\n",
    "t2 = pcvl.StateVector(\"|0,1,0,0,0,0,1,0>\")\n",
    "t3 = pcvl.StateVector(\"|0,0,1,0,0,0,0,1>\")\n",
    "t4 = pcvl.StateVector(\"|0,0,0,1,1,0,0,0>\")\n",
    "tau = t1 + t2 + t3 + t4\n",
    "\n",
    "print(generate(phase_shift_angles, stf).samples(1)['results'][0])\n",
    "print(discriminate(phase_discriminate_angles, generate(phase_shift_angles, stf).samples(1)['results'][0]).samples(1)['results'][0])"
   ]
  },
  {
   "cell_type": "code",
   "execution_count": null,
   "metadata": {},
   "outputs": [],
   "source": [
    "#all imports\n",
    "\n",
    "import perceval as pcvl\n",
    "import math\n",
    "import numpy as np\n",
    "\n",
    "# calculate the loss function\n",
    "def calculate_loss(generator_angles, discriminator_angles): #for minimizing from an ungenerated vector\n",
    "  for i in range(30):\n",
    "    gen_params[i].set_value(generator_angles[i])\n",
    "  for i in range(12):\n",
    "    discrim_params[i].set_value(discriminator_angles[i])\n",
    "  g_sampler = generate(generator_angles, stf)\n",
    "  g_sample = g_sampler.samples(1)['results'][0]\n",
    "  d_sampler = discriminate(discriminator_angles, g_sample)\n",
    "  dist1 = d_sampler.probs()['results'][pcvl.BasicState(\"|0, 1, 0, 0, 0, 1, 0, 0>\")]\n",
    "\n",
    "  tau_d_sampler = discriminate(discriminator_angles, tau)\n",
    "  dist2 = tau_d_sampler.probs()['results'][pcvl.BasicState(\"|0, 1, 0, 0, 0, 1, 0, 0>\")]\n",
    "\n",
    "  return abs(dist1 - dist2), dist1, dist2\n",
    "\n",
    "\n",
    "\n",
    "phase_actual_angles = np.array([0.87700001, 1.29945375, 1.22958453, 0.80825399, 1.32367853, 1.24938575,\n",
    " 1.52368353, 1.39377473, 1.00303004, 0.64323807, 1.35395096, 1.43155562])\n",
    "\n"
   ]
  },
  {
   "cell_type": "code",
   "execution_count": null,
   "metadata": {},
   "outputs": [],
   "source": [
    "# Tracks our loss function as we train\n",
    "loss_tracker = [0]\n",
    "th_state = [\"|1, 0, 0, 0, 0, 1, 0, 0>\", \"|0, 1, 0, 0, 0, 0, 1, 0>\", \"|0, 0, 1, 0, 0, 0, 0, 1>\", \"|0, 0, 0, 1, 1, 0, 0, 0>\"]\n",
    "fidelity_scores = [0]\n",
    "gen_scores = [0]\n",
    "tau_scores = [0]\n",
    "\n",
    "def training_generator(phase_shift_angles, epochs, d_theta):\n",
    "  generate_gradient = np.array([0.0,0,0,0,0,0,0,0,0,0,0,0,0,0,0,0,0,0,0,0,0,0,0,0,0,0,0,0,0,0])\n",
    "  for epoch in range(0, epochs):\n",
    "    for index in range(len(phase_shift_angles)):\n",
    "      theta_plus = phase_shift_angles.copy()\n",
    "      theta_plus[index] = phase_shift_angles[index] + d_theta\n",
    "      theta_minus = phase_shift_angles.copy()\n",
    "      theta_minus[index] = phase_shift_angles[index] - d_theta\n",
    "      slope = (calculate_loss(theta_plus, phase_discriminate_angles)[0] - calculate_loss(theta_minus, phase_discriminate_angles)[0]) / (2*d_theta)\n",
    "      slope = round(slope, 4)\n",
    "      generate_gradient[index] = slope\n",
    "      # print(slope)\n",
    "      # print(generate_gradient)\n",
    "    phase_shift_angles = phase_shift_angles - generate_gradient * d_theta\n",
    "    loss, gen, tau_score = calculate_loss(phase_shift_angles, phase_discriminate_angles)\n",
    "    print(\"gtrain loss:\" + str(loss))\n",
    "    loss_tracker.append(loss)\n",
    "    gen_scores.append(gen)\n",
    "    tau_scores.append(tau_score)\n",
    "    g_sampler = generate(phase_shift_angles, stf)\n",
    "    fidelity = 0\n",
    "    for state in th_state:\n",
    "        fidelity += g_sampler.probs()['results'][pcvl.BasicState(state)]\n",
    "    print(\"gtrain fid:\" + str(fidelity))\n",
    "    fidelity_scores.append(fidelity)\n",
    "  return phase_shift_angles\n",
    "\n",
    "def training_discriminator(phase_discriminate_angles, epochs, d_theta):\n",
    "  for epoch in range(0, epochs):\n",
    "    change = abs(np.random.normal(1, 0.5))*d_theta\n",
    "    for index in range(len(phase_discriminate_angles)):\n",
    "      theta_plus = phase_discriminate_angles.copy()\n",
    "      theta_plus[index] = phase_discriminate_angles[index] + change\n",
    "      theta_minus = phase_discriminate_angles.copy()\n",
    "      theta_minus[index] = phase_discriminate_angles[index] - change\n",
    "      slope = (calculate_loss(phase_shift_angles, theta_plus)[0] - calculate_loss(phase_shift_angles, theta_minus)[0]) / (2*change)\n",
    "      slope = round(slope, 4)\n",
    "      phase_discriminate_angles[index] = phase_discriminate_angles[index] + slope * change\n",
    "    loss, gen, tau_score = calculate_loss(phase_shift_angles, phase_discriminate_angles)\n",
    "    print(\"dtrain loss:\" + str(loss))\n",
    "    loss_tracker.append(loss)\n",
    "    gen_scores.append(gen)\n",
    "    tau_scores.append(tau_score)\n",
    "    g_sampler = generate(phase_shift_angles, stf)\n",
    "    fidelity = 0\n",
    "    for state in th_state:\n",
    "        fidelity += g_sampler.probs()['results'][pcvl.BasicState(state)]\n",
    "    print(\"dtrain fid:\" + str(fidelity))\n",
    "    fidelity_scores.append(fidelity)\n",
    "  return phase_discriminate_angles"
   ]
  },
  {
   "cell_type": "code",
   "execution_count": null,
   "metadata": {},
   "outputs": [],
   "source": [
    "# Train the parameters\n",
    "x = 0\n",
    "while x < 100:\n",
    "  print(\"Epoch: \" + str(x))\n",
    "  phase_discriminate_angles = training_discriminator(phase_discriminate_angles, 5, 0.01)\n",
    "  phase_shift_angles = training_generator(phase_shift_angles, 15, 0.01)\n",
    "\n",
    "  x = x+1"
   ]
  },
  {
   "cell_type": "code",
   "execution_count": 44,
   "metadata": {},
   "outputs": [
    {
     "name": "stdout",
     "output_type": "stream",
     "text": [
      "0.346615377259413\n"
     ]
    }
   ],
   "source": [
    "# Calculate the fidelity by projecting onto tau\n",
    "th_state = [\"|1, 0, 0, 0, 0, 1, 0, 0>\", \"|0, 1, 0, 0, 0, 0, 1, 0>\", \"|0, 0, 1, 0, 0, 0, 0, 1>\", \"|0, 0, 0, 1, 1, 0, 0, 0>\"]\n",
    "g_sampler = generate(phase_shift_angles, stf)\n",
    "fidelity = 0\n",
    "for state in th_state:\n",
    "    fidelity += g_sampler.probs()['results'][pcvl.BasicState(state)]\n",
    "print(fidelity)"
   ]
  },
  {
   "cell_type": "code",
   "execution_count": 45,
   "metadata": {},
   "outputs": [
    {
     "data": {
      "image/png": "[encoded data removed]",
      "text/plain": [
       "<Figure size 640x480 with 1 Axes>"
      ]
     },
     "metadata": {},
     "output_type": "display_data"
    }
   ],
   "source": [
    "import matplotlib.pyplot as plt\n",
    "plt.plot(loss_tracker)\n",
    "plt.xlabel('Epochs')\n",
    "plt.ylabel('Loss')\n",
    "plt.title('Loss Function')\n",
    "plt.show()"
   ]
  },
  {
   "cell_type": "code",
   "execution_count": 46,
   "metadata": {},
   "outputs": [
    {
     "data": {
      "text/plain": [
       "Text(0.5, 1.0, 'Generator and Discriminator Scores')"
      ]
     },
     "execution_count": 46,
     "metadata": {},
     "output_type": "execute_result"
    },
    {
     "data": {
      "image/png": "[encoded data removed]",
      "text/plain": [
       "<Figure size 640x480 with 1 Axes>"
      ]
     },
     "metadata": {},
     "output_type": "display_data"
    }
   ],
   "source": [
    "# Plot the generator and discriminator scores\n",
    "plt.plot(gen_scores)\n",
    "plt.plot(tau_scores)\n",
    "plt.xlabel('Epochs')\n",
    "plt.legend(['Generated State', 'Theoretical State'], loc='upper right')\n",
    "plt.ylabel('Scores')\n",
    "plt.title('Generator and Discriminator Scores')\n"
   ]
  },
  {
   "cell_type": "code",
   "execution_count": 47,
   "metadata": {},
   "outputs": [
    {
     "data": {
      "image/png": "[encoded data removed]",
      "text/plain": [
       "<Figure size 640x480 with 1 Axes>"
      ]
     },
     "metadata": {},
     "output_type": "display_data"
    }
   ],
   "source": [
    "# Plot the fidelity\n",
    "plt.plot(fidelity_scores)\n",
    "plt.xlabel('Epochs')\n",
    "plt.ylabel('Fidelity')\n",
    "plt.title('Fidelity')\n",
    "plt.show()"
   ]
  },
  {
   "cell_type": "code",
   "execution_count": null,
   "metadata": {},
   "outputs": [],
   "source": [
    "# Saving some generator weights that have very high fidelity measure\n",
    "really_good_weights = [1.47792293, 1.49078223, 1.44426633, 1.10679943, 1.93115503,\n",
    "       1.53476983, 1.22454473, 2.11418663, 2.24614793, 2.11267583,\n",
    "       1.52300323, 1.69297423, 1.56107503, 1.50252823, 1.56577133,\n",
    "       1.48060163, 1.45246733, 1.39190153, 2.00855323, 1.30646613,\n",
    "       1.19894733, 2.26236873, 0.64821883, 0.97429743, 1.25474383,\n",
    "       0.93633533, 2.26012883, 1.48809073, 1.55374773, 1.69510973]"
   ]
  },
  {
   "cell_type": "code",
   "execution_count": null,
   "metadata": {},
   "outputs": [],
   "source": [
    "# This is sort of a cheat way to generate high fidelity measures\n",
    "# Train with fidelity instead of our loss function.\n",
    "# Confirms that our gradient descent is working\n",
    "fidelity_tracker = []\n",
    "\n",
    "def calculate_fidelity(generator_angles):\n",
    "    g_sampler = generate(generator_angles, stf)\n",
    "    fidelity = 0\n",
    "    for state in th_state:\n",
    "        fidelity += g_sampler.probs()['results'][pcvl.BasicState(state)]\n",
    "    return fidelity \n",
    "\n",
    "def fidelity_generator(phase_shift_angles, epochs, d_theta):\n",
    "  generate_gradient = np.array([0.0,0,0,0,0,0,0,0,0,0,0,0,0,0,0,0,0,0,0,0,0,0,0,0,0,0,0,0,0,0])\n",
    "  for epoch in range(0, epochs):\n",
    "    for index in range(len(phase_shift_angles)):\n",
    "      theta_plus = phase_shift_angles.copy()\n",
    "      theta_plus[index] = phase_shift_angles[index] + d_theta\n",
    "      theta_minus = phase_shift_angles.copy()\n",
    "      theta_minus[index] = phase_shift_angles[index] - d_theta\n",
    "      slope = (calculate_fidelity(theta_plus) - calculate_fidelity(theta_minus)) / (2*d_theta)\n",
    "      slope = round(slope, 4)\n",
    "      generate_gradient[index] = slope\n",
    "      # print(slope)\n",
    "      # print(generate_gradient)\n",
    "    phase_shift_angles = phase_shift_angles + generate_gradient * d_theta\n",
    "    fidelity_tracker.append(calculate_fidelity(phase_shift_angles))\n",
    "  # print(\"Generator:\")\n",
    "  # print(phase_shift_angles)\n",
    "  return phase_shift_angles\n",
    "\n",
    "for i in range(100):\n",
    "  print(\"Epoch: \" + str(i))\n",
    "  phase_shift_angles = fidelity_generator(phase_shift_angles, 5, 0.5)"
   ]
  },
  {
   "cell_type": "code",
   "execution_count": null,
   "metadata": {},
   "outputs": [],
   "source": [
    "max_entangled_states = [\"|1, 0, 0, 0, 1, 0, 0, 0>\", \"|0, 1, 0, 0, 0, 1, 0, 0>\", \"|0, 0, 1, 0, 0, 0, 1, 0>\", \"|0, 0, 0, 1, 0, 0, 0, 1>\"]\n",
    "# The desired state, |1,1>\n",
    "# max_entangled_states = [\"|0, 1, 0, 0, 0, 1, 0, 0>\"]\n",
    "def cheat_loss(phase_discriminate_angles):\n",
    "    loss = 0\n",
    "    d_sampler = discriminate(phase_discriminate_angles, tau)\n",
    "    for state in max_entangled_states:\n",
    "        loss += d_sampler.probs()['results'][pcvl.BasicState(state)]\n",
    "    return loss\n",
    "\n",
    "def cheat_discriminator(phase_discriminate_angles, epochs, d_theta):\n",
    "  discriminate_gradient = np.array([0.0,0,0,0,0,0,0,0,0,0,0,0])\n",
    "  for epoch in range(0, epochs):\n",
    "    for index in range(len(phase_discriminate_angles)):\n",
    "      theta_plus = phase_discriminate_angles.copy()\n",
    "      theta_plus[index] = phase_discriminate_angles[index] + d_theta\n",
    "      theta_minus = phase_discriminate_angles.copy()\n",
    "      theta_minus[index] = phase_discriminate_angles[index] - d_theta\n",
    "      slope = (cheat_loss(theta_plus) - cheat_loss(theta_minus)) / (2*d_theta)\n",
    "      slope = round(slope, 4)\n",
    "      discriminate_gradient[index] = slope\n",
    "    phase_discriminate_angles = phase_discriminate_angles + discriminate_gradient * d_theta\n",
    "    print(cheat_loss(phase_discriminate_angles))\n",
    "  return phase_discriminate_angles\n",
    "\n",
    "for i in range(100):\n",
    "    print(\"Epoch: \" + str(i))\n",
    "    phase_discriminate_angles = cheat_discriminator(phase_discriminate_angles, 5, 0.05)"
   ]
  },
  {
   "cell_type": "code",
   "execution_count": null,
   "metadata": {},
   "outputs": [],
   "source": [
    "d_sampler = discriminate(phase_discriminate_angles, tau)\n",
    "d_sampler.probs()"
   ]
  },
  {
   "cell_type": "code",
   "execution_count": null,
   "metadata": {},
   "outputs": [],
   "source": [
    "# GAN but with tomography?\n",
    "\n",
    "max_entangled_states = [\"|1, 0, 0, 0, 1, 0, 0, 0>\", \"|0, 1, 0, 0, 0, 1, 0, 0>\", \"|0, 0, 1, 0, 0, 0, 1, 0>\", \"|0, 0, 0, 1, 0, 0, 0, 1>\"]\n",
    "# custom loss function that fully measures the output of the discriminator\n",
    "def calculate_loss(generator_angles, discriminator_angles): #for minimizing from an ungenerated vector\n",
    "  for i in range(30):\n",
    "    gen_params[i].set_value(generator_angles[i])\n",
    "  for i in range(12):\n",
    "    discrim_params[i].set_value(discriminator_angles[i])\n",
    "  g_sampler = generate(generator_angles, stf)\n",
    "  g_sample = g_sampler.samples(1)['results'][0]\n",
    "  d_sampler = discriminate(discriminator_angles, g_sample)\n",
    "  dist1 = 0\n",
    "  for state in max_entangled_states:\n",
    "        dist1 += d_sampler.probs()['results'][pcvl.BasicState(state)]\n",
    "\n",
    "  tau_d_sampler = discriminate(discriminator_angles, tau)\n",
    "  dist2 = 0\n",
    "  for state in max_entangled_states:\n",
    "        dist2 += tau_d_sampler.probs()['results'][pcvl.BasicState(state)]\n",
    "\n",
    "  return abs(dist1 - dist2)\n",
    "\n",
    "def training_generator(phase_shift_angles, epochs, d_theta):\n",
    "  generate_gradient = np.array([0.0,0,0,0,0,0,0,0,0,0,0,0,0,0,0,0,0,0,0,0,0,0,0,0,0,0,0,0,0,0])\n",
    "  for epoch in range(0, epochs):\n",
    "    for index in range(len(phase_shift_angles)):\n",
    "      theta_plus = phase_shift_angles.copy()\n",
    "      theta_plus[index] = phase_shift_angles[index] + d_theta\n",
    "      theta_minus = phase_shift_angles.copy()\n",
    "      theta_minus[index] = phase_shift_angles[index] - d_theta\n",
    "      slope = (calculate_loss(theta_plus, phase_discriminate_angles) - calculate_loss(theta_minus, phase_discriminate_angles)) / (2*d_theta)\n",
    "      slope = round(slope, 4)\n",
    "      generate_gradient[index] = slope\n",
    "      # print(slope)\n",
    "      # print(generate_gradient)\n",
    "    phase_shift_angles = phase_shift_angles - generate_gradient * d_theta\n",
    "    loss_tracker.append(calculate_loss(phase_shift_angles, phase_discriminate_angles))\n",
    "  print(\"Generator:\")\n",
    "  print(phase_shift_angles)\n",
    "  return phase_shift_angles\n",
    "\n",
    "def training_discriminator(phase_discriminate_angles, epochs, d_theta):\n",
    "  discriminate_gradient = np.array([0.0,0,0,0,0,0,0,0,0,0,0,0])\n",
    "  for epoch in range(0, epochs):\n",
    "    for index in range(len(phase_discriminate_angles)):\n",
    "      theta_plus = phase_discriminate_angles.copy()\n",
    "      theta_plus[index] = phase_discriminate_angles[index] + d_theta\n",
    "      theta_minus = phase_discriminate_angles.copy()\n",
    "      theta_minus[index] = phase_discriminate_angles[index] + d_theta\n",
    "      slope = (calculate_loss(phase_shift_angles, theta_plus) - calculate_loss(phase_shift_angles, theta_minus)) / (2*d_theta)\n",
    "      slope = round(slope, 4)\n",
    "      discriminate_gradient[index] = slope\n",
    "    phase_discriminate_angles = phase_discriminate_angles + discriminate_gradient * d_theta\n",
    "    # print(discriminate_gradient)\n",
    "    loss_tracker.append(calculate_loss(phase_shift_angles, phase_discriminate_angles))\n",
    "  print(\"Discriminator:\")\n",
    "  print(phase_discriminate_angles)\n",
    "  return phase_discriminate_angles\n",
    "    \n",
    "x = 0\n",
    "while x < 20:\n",
    "  print(\"Epoch: \" + str(x))\n",
    "  phase_discriminate_angles = training_discriminator(phase_discriminate_angles, 25, 0.1)\n",
    "  phase_shift_angles = training_generator(phase_shift_angles, 25, 0.1)\n",
    "\n",
    "  x = x+1"
   ]
  },
  {
   "cell_type": "code",
   "execution_count": null,
   "metadata": {},
   "outputs": [],
   "source": [
    "x = 0\n",
    "while x < 100:\n",
    "  print(\"Epoch: \" + str(x))\n",
    "  phase_discriminate_angles = training_discriminator(phase_discriminate_angles, 5, 0.5)\n",
    "  phase_shift_angles = training_generator(phase_shift_angles, 15, 0.1)\n",
    "\n",
    "  x = x+1"
   ]
  },
  {
   "cell_type": "code",
   "execution_count": null,
   "metadata": {},
   "outputs": [],
   "source": [
    "M = pcvl.pdisplay(discriminator.U)\n",
    "rho = pcvl.pdisplay(generator.U)\n",
    "tau_hat = "
   ]
  },
  {
   "cell_type": "code",
   "execution_count": null,
   "metadata": {},
   "outputs": [],
   "source": [
    "def matrix_loss(generator_angles, discriminator_angles):\n",
    "    tau_hat = tau**2\n",
    "    M_hat = \n",
    "    d_sampler = discriminate(discriminator_angles, tau)\n",
    "    loss = 0\n",
    "    for state in max_entangled_states:\n",
    "        loss += d_sampler.probs()['results'][pcvl.BasicState(state)]\n",
    "    return loss"
   ]
  },
  {
   "cell_type": "code",
   "execution_count": null,
   "metadata": {},
   "outputs": [],
   "source": [
    "pcvl.pdisplay(discriminator.U)\n",
    "pcvl.pdisplay(generator.U)"
   ]
  },
  {
   "cell_type": "code",
   "execution_count": null,
   "metadata": {},
   "outputs": [],
   "source": [
    "dtop = pcvl.Circuit(4)\n",
    "\n",
    "dtop.add(0, comp.PS(discrim_params[0]))\n",
    "dtop.add(1, comp.PS(discrim_params[1]))\n",
    "dtop.add(2, comp.PS(discrim_params[2]))\n",
    "\n",
    "dtop.add((0, 1), comp.BS(theta))\n",
    "dtop.add((2, 3), comp.BS(theta))\n",
    "\n",
    "dtop.add(0, comp.PS(discrim_params[3]))\n",
    "dtop.add(2, comp.PS(discrim_params[4]))\n",
    "\n",
    "dtop.add((0, 1), comp.BS(theta))\n",
    "dtop.add((2, 3), comp.BS(theta))\n",
    "\n",
    "dtop.add((1, 2), comp.BS(theta))\n",
    "\n",
    "dtop.add(1, comp.PS(discrim_params[5]))\n",
    "\n",
    "dtop.add((1, 2), comp.BS(theta))\n",
    "\n",
    "dbot = pcvl.Circuit(4)\n",
    "\n",
    "dbot.add(0, comp.PS(discrim_params[6]))\n",
    "dbot.add(1, comp.PS(discrim_params[7]))\n",
    "dbot.add(2, comp.PS(discrim_params[8]))\n",
    "\n",
    "dbot.add((0, 1), comp.BS(theta))\n",
    "dbot.add((2, 3), comp.BS(theta))\n",
    "\n",
    "dbot.add(0, comp.PS(discrim_params[9]))\n",
    "dbot.add(2, comp.PS(discrim_params[10]))\n",
    "\n",
    "dbot.add((0, 1), comp.BS(theta))\n",
    "dbot.add((2, 3), comp.BS(theta))\n",
    "\n",
    "dbot.add((1, 2), comp.BS(theta))\n",
    "\n",
    "dbot.add(1, comp.PS(discrim_params[11]))\n",
    "\n",
    "dbot.add((1, 2), comp.BS(theta))"
   ]
  },
  {
   "cell_type": "code",
   "execution_count": null,
   "metadata": {},
   "outputs": [],
   "source": [
    "utop = dtop.U\n",
    "ubot = dbot.U"
   ]
  },
  {
   "cell_type": "code",
   "execution_count": null,
   "metadata": {},
   "outputs": [],
   "source": [
    "utop = np.array(utop)\n",
    "ubot = np.array(ubot)"
   ]
  },
  {
   "cell_type": "code",
   "execution_count": null,
   "metadata": {},
   "outputs": [],
   "source": [
    "M = np.kron(utop, ubot)"
   ]
  },
  {
   "cell_type": "code",
   "execution_count": null,
   "metadata": {},
   "outputs": [],
   "source": [
    "# Old Loss\n",
    "def calculate_loss(generator_angles, discriminator_angles): #for minimizing from an ungenerated vector\n",
    "  for i in range(30):\n",
    "    gen_params[i].set_value(generator_angles[i])\n",
    "  for i in range(12):\n",
    "    discrim_params[i].set_value(discriminator_angles[i])\n",
    "  g_sampler = generate(generator_angles, stf)\n",
    "  g_sample = g_sampler.samples(1)['results'][0]\n",
    "  d_sampler = discriminate(discriminator_angles, g_sample)\n",
    "  dist1 = d_sampler.probs()['results'][pcvl.BasicState(\"|0, 1, 0, 0, 0, 1, 0, 0>\")]\n",
    "\n",
    "  tau_d_sampler = discriminate(discriminator_angles, tau)\n",
    "  dist2 = tau_d_sampler.probs()['results'][pcvl.BasicState(\"|0, 1, 0, 0, 0, 1, 0, 0>\")]"
   ]
  }
 ],
 "metadata": {
  "kernelspec": {
   "display_name": "Python 3",
   "language": "python",
   "name": "python3"
  },
  "language_info": {
   "codemirror_mode": {
    "name": "ipython",
    "version": 3
   },
   "file_extension": ".py",
   "mimetype": "text/x-python",
   "name": "python",
   "nbconvert_exporter": "python",
   "pygments_lexer": "ipython3",
   "version": "3.11.5"
  },
  "orig_nbformat": 4
 },
 "nbformat": 4,
 "nbformat_minor": 2
}
